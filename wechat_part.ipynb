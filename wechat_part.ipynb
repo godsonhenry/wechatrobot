{
 "cells": [
  {
   "cell_type": "code",
   "execution_count": 1,
   "metadata": {
    "collapsed": false,
    "deletable": true,
    "editable": true
   },
   "outputs": [
    {
     "name": "stdout",
     "output_type": "stream",
     "text": [
      "█\r"
     ]
    }
   ],
   "source": [
    "import itchat\n",
    "import smtplib\n",
    "import pickle\n",
    "from email.mime.text import MIMEText\n",
    "from itchat.content import TEXT"
   ]
  },
  {
   "cell_type": "code",
   "execution_count": null,
   "metadata": {
    "collapsed": false,
    "deletable": true,
    "editable": true
   },
   "outputs": [],
   "source": []
  },
  {
   "cell_type": "code",
   "execution_count": 2,
   "metadata": {
    "collapsed": true,
    "deletable": true,
    "editable": true
   },
   "outputs": [],
   "source": [
    "# login\n",
    "#itchat.auto_login(enableCmdQR=2)"
   ]
  },
  {
   "cell_type": "code",
   "execution_count": 3,
   "metadata": {
    "collapsed": true,
    "deletable": true,
    "editable": true
   },
   "outputs": [],
   "source": [
    "# listen to the message and send back\n",
    "#send_msg(msg='Text Message', toUserName=None)"
   ]
  },
  {
   "cell_type": "code",
   "execution_count": 4,
   "metadata": {
    "collapsed": true,
    "deletable": true,
    "editable": true
   },
   "outputs": [],
   "source": [
    "with open('email_list.pickle', 'rb') as f:\n",
    "    # The protocol version used is detected automatically, so we do not\n",
    "    # have to specify it.\n",
    "    data = pickle.load(f)\n",
    "    email_list = data['email_list']"
   ]
  },
  {
   "cell_type": "code",
   "execution_count": 5,
   "metadata": {
    "collapsed": true,
    "deletable": true,
    "editable": true
   },
   "outputs": [],
   "source": [
    "# function: send email\n",
    "def send_email(email_type,email_content):\n",
    "    fromaddr = \"us@senlyu.com\"\n",
    "\n",
    "    subject = email_type\n",
    "    content = email_content\n",
    "    text_subtype = 'plain'\n",
    "    msg = MIMEText(content, text_subtype)\n",
    "    msg['Subject']= subject\n",
    "    msg['From']   = fromaddr\n",
    "\n",
    "\n",
    "    print(\"Message length is\", len(msg))\n",
    "\n",
    "    server = smtplib.SMTP_SSL('smtp.zoho.com',465)\n",
    "    server.login(fromaddr,password)\n",
    "    server.set_debuglevel(1)\n",
    "    for toaddrs in email_list:\n",
    "        server.sendmail(fromaddr, toaddrs, msg.as_string())\n",
    "    \n",
    "    server.quit()"
   ]
  },
  {
   "cell_type": "code",
   "execution_count": 6,
   "metadata": {
    "collapsed": true,
    "deletable": true,
    "editable": true
   },
   "outputs": [],
   "source": [
    "def add_email(new_email):\n",
    "    # An arbitrary collection of objects supported by pickle.\n",
    "    email_list.append(new_email)\n",
    "    data = {\n",
    "        'email_list' : email_list\n",
    "    }\n",
    "\n",
    "    with open('email_list.pickle', 'wb') as f:\n",
    "    # Pickle the 'data' dictionary using the highest protocol available.\n",
    "        pickle.dump(data, f)"
   ]
  },
  {
   "cell_type": "code",
   "execution_count": 7,
   "metadata": {
    "collapsed": true,
    "deletable": true,
    "editable": true
   },
   "outputs": [],
   "source": [
    "def delete_email(new_email):\n",
    "    email_list.remove(new_email)\n",
    "    data = {\n",
    "        'email_list' : email_list\n",
    "    }\n",
    "\n",
    "    with open('email_list.pickle', 'wb') as f:\n",
    "    # Pickle the 'data' dictionary using the highest protocol available.\n",
    "        pickle.dump(data, f)"
   ]
  },
  {
   "cell_type": "code",
   "execution_count": 8,
   "metadata": {
    "collapsed": false,
    "deletable": true,
    "editable": true
   },
   "outputs": [],
   "source": [
    "def show_email():\n",
    "    result = ''\n",
    "    for ele in email_list:\n",
    "        result = result + ele + ';'\n",
    "    return result"
   ]
  },
  {
   "cell_type": "code",
   "execution_count": 53,
   "metadata": {
    "collapsed": false,
    "deletable": true,
    "editable": true
   },
   "outputs": [],
   "source": [
    "#test email add\n",
    "#add_email('jobs@senlyu.com')"
   ]
  },
  {
   "cell_type": "code",
   "execution_count": 55,
   "metadata": {
    "collapsed": true,
    "deletable": true,
    "editable": true
   },
   "outputs": [],
   "source": [
    "#test email delete\n",
    "#delete_email('123@123.com')"
   ]
  },
  {
   "cell_type": "code",
   "execution_count": 96,
   "metadata": {
    "collapsed": false,
    "deletable": true,
    "editable": true
   },
   "outputs": [
    {
     "data": {
      "text/plain": [
       "'jobs@senlyu.com;3.com;23@123.com;23@123.com;123@123.com;'"
      ]
     },
     "execution_count": 96,
     "metadata": {},
     "output_type": "execute_result"
    }
   ],
   "source": [
    "#show_email()"
   ]
  },
  {
   "cell_type": "code",
   "execution_count": null,
   "metadata": {
    "collapsed": true,
    "deletable": true,
    "editable": true
   },
   "outputs": [],
   "source": []
  },
  {
   "cell_type": "code",
   "execution_count": null,
   "metadata": {
    "collapsed": true,
    "deletable": true,
    "editable": true
   },
   "outputs": [],
   "source": []
  },
  {
   "cell_type": "code",
   "execution_count": null,
   "metadata": {
    "collapsed": true,
    "deletable": true,
    "editable": true
   },
   "outputs": [],
   "source": []
  },
  {
   "cell_type": "code",
   "execution_count": null,
   "metadata": {
    "collapsed": true,
    "deletable": true,
    "editable": true
   },
   "outputs": [],
   "source": []
  },
  {
   "cell_type": "code",
   "execution_count": 9,
   "metadata": {
    "collapsed": false,
    "deletable": true,
    "editable": true
   },
   "outputs": [
    {
     "name": "stderr",
     "output_type": "stream",
     "text": [
      "Please press confirm on your phone.\n",
      "Loading the contact, this may take a little while.\n",
      "Login successfully as dennis\n",
      "Start auto replying.\n"
     ]
    },
    {
     "name": "stdout",
     "output_type": "stream",
     "text": [
      "Message length is 5\n"
     ]
    },
    {
     "name": "stderr",
     "output_type": "stream",
     "text": [
      "send: 'mail FROM:<us@senlyu.com> size=173\\r\\n'\n",
      "reply: b'250 Sender <us@senlyu.com> OK\\r\\n'\n",
      "reply: retcode (250); Msg: b'Sender <us@senlyu.com> OK'\n",
      "send: 'rcpt TO:<lyusensam@gmail.com>\\r\\n'\n",
      "reply: b'250 Recipient <lyusensam@gmail.com> OK\\r\\n'\n",
      "reply: retcode (250); Msg: b'Recipient <lyusensam@gmail.com> OK'\n",
      "send: 'data\\r\\n'\n",
      "reply: b'354 Ok Send data ending with <CRLF>.<CRLF>\\r\\n'\n",
      "reply: retcode (354); Msg: b'Ok Send data ending with <CRLF>.<CRLF>'\n",
      "data: (354, b'Ok Send data ending with <CRLF>.<CRLF>')\n",
      "send: b'Content-Type: text/plain; charset=\"utf-8\"\\r\\nMIME-Version: 1.0\\r\\nContent-Transfer-Encoding: base64\\r\\nSubject: =?utf-8?b?5py65Lya?=\\r\\nFrom: us@senlyu.com\\r\\n\\r\\nI+acuuS8miAx5rWL6K+V\\r\\n.\\r\\n'\n",
      "reply: b'250 Message received\\r\\n'\n",
      "reply: retcode (250); Msg: b'Message received'\n",
      "data: (250, b'Message received')\n",
      "send: 'quit\\r\\n'\n",
      "reply: b'221 mx.zohomail.com closing connection\\r\\n'\n",
      "reply: retcode (221); Msg: b'mx.zohomail.com closing connection'\n",
      "LOG OUT!\n"
     ]
    }
   ],
   "source": [
    "\n",
    "@itchat.msg_register(TEXT, isGroupChat=True)\n",
    "def print_content(msg):\n",
    "    flag = False\n",
    "    if (msg['Text'][:3] == '#机会'):\n",
    "        itchat.send(msg='已经将以上信息发送到邮箱，标签机会', toUserName=msg['FromUserName'])\n",
    "        email_type = '机会'\n",
    "        flag = True\n",
    "    if (msg['Text'][:3] == '#经验'):\n",
    "        itchat.send(msg='已经将以上信息发送到邮箱，标签经验', toUserName=msg['FromUserName'])\n",
    "        email_type = '经验'\n",
    "        flag = True\n",
    "    if (msg['Text'][:3] == '#测试'):\n",
    "        itchat.send(msg='这是一条自动信息', toUserName=msg['FromUserName'])\n",
    "    if (msg['Text'][:3] == '#介绍'):\n",
    "        itchat.send(msg='我是Sam的小号机器人，我才刚诞生很不完善，我目前的工作是为Sam处理微信信息碎片化的问题，大家也可以使用。目前只有一个功能，将机会信息和经验信息，转发到邮箱。还麻烦学长学姐同学们，有分享的信息，用特殊字开头，目前仅有：#机会，#经验，邮箱信息查询输入#邮箱', toUserName=msg['FromUserName'])\n",
    "    if (msg['Text'][:3] == '#邮箱'):\n",
    "        itchat.send(msg='邮箱可以通过#添加邮箱，#删除邮箱，#显示列表，来管理，邮箱从us@senlyu.com发出，发出的邮件以“机会”或“经验”为标题，内容为整个消息，大家可以在自己邮箱设置tag来管理。举个例子，今天我发布了信息如下：#经验OPT经验。那么在邮箱列表里的邮箱会收到一封来自us@senlyu.com，以“经验”为标题，以“#经验OPT经验”为内容的邮件', toUserName=msg['FromUserName'])\n",
    "    #    email_list.append(msg[3:])\n",
    "    if (msg['Text'][:5] == '#添加邮箱'):\n",
    "        add_email(msg['Text'][6:])\n",
    "        itchat.send(msg='已添加'+msg['Text'][6:], toUserName=msg['FromUserName'])\n",
    "    if (msg['Text'][:5] == '#删除邮箱'):\n",
    "        delete_email(msg['Text'][6:])\n",
    "        itchat.send(msg='已删除'+msg['Text'][6:], toUserName=msg['FromUserName'])\n",
    "    if (msg['Text'][:5] == '#显示列表'):\n",
    "        itchat.send(msg=show_email(), toUserName=msg['FromUserName'])   \n",
    "    if (msg['Text'][:3] == '#帮助'):\n",
    "        itchat.send(msg='如需要帮助，如果想一起改进这个小玩意，请联系我，阿森Ｓam，第一次做这样的东西，多多包涵', toUserName=msg['FromUserName'])\n",
    "    if (flag):\n",
    "        email_content = msg['Text']\n",
    "        send_email(email_type,email_content)\n",
    "    \n",
    "    \n",
    "\n",
    "itchat.auto_login(hotReload=True)\n",
    "itchat.run()"
   ]
  },
  {
   "cell_type": "code",
   "execution_count": 12,
   "metadata": {
    "collapsed": true,
    "deletable": true,
    "editable": true
   },
   "outputs": [],
   "source": []
  },
  {
   "cell_type": "code",
   "execution_count": 23,
   "metadata": {
    "collapsed": false,
    "deletable": true,
    "editable": true
   },
   "outputs": [],
   "source": []
  },
  {
   "cell_type": "code",
   "execution_count": 13,
   "metadata": {
    "collapsed": true,
    "deletable": true,
    "editable": true
   },
   "outputs": [],
   "source": []
  },
  {
   "cell_type": "code",
   "execution_count": null,
   "metadata": {
    "collapsed": false,
    "deletable": true,
    "editable": true
   },
   "outputs": [],
   "source": [
    "\n"
   ]
  },
  {
   "cell_type": "code",
   "execution_count": null,
   "metadata": {
    "collapsed": true,
    "deletable": true,
    "editable": true
   },
   "outputs": [],
   "source": []
  },
  {
   "cell_type": "code",
   "execution_count": null,
   "metadata": {
    "collapsed": true,
    "deletable": true,
    "editable": true
   },
   "outputs": [],
   "source": []
  },
  {
   "cell_type": "code",
   "execution_count": null,
   "metadata": {
    "collapsed": true,
    "deletable": true,
    "editable": true
   },
   "outputs": [],
   "source": []
  },
  {
   "cell_type": "code",
   "execution_count": null,
   "metadata": {
    "collapsed": true,
    "deletable": true,
    "editable": true
   },
   "outputs": [],
   "source": [
    "\n",
    "\n",
    "\n",
    "\n"
   ]
  },
  {
   "cell_type": "code",
   "execution_count": null,
   "metadata": {
    "collapsed": true,
    "deletable": true,
    "editable": true
   },
   "outputs": [],
   "source": []
  }
 ],
 "metadata": {
  "kernelspec": {
   "display_name": "Python 3",
   "language": "python",
   "name": "python3"
  },
  "language_info": {
   "codemirror_mode": {
    "name": "ipython",
    "version": 3
   },
   "file_extension": ".py",
   "mimetype": "text/x-python",
   "name": "python",
   "nbconvert_exporter": "python",
   "pygments_lexer": "ipython3",
   "version": "3.5.2"
  }
 },
 "nbformat": 4,
 "nbformat_minor": 2
}
